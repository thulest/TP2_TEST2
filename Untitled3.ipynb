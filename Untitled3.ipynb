{
 "cells": [
  {
   "cell_type": "code",
   "execution_count": 1,
   "id": "20a463d0-f0a8-492a-b1d3-46c2f67e904a",
   "metadata": {},
   "outputs": [
    {
     "ename": "SyntaxError",
     "evalue": "unmatched ']' (1824683580.py, line 9)",
     "output_type": "error",
     "traceback": [
      "\u001b[1;36m  Cell \u001b[1;32mIn[1], line 9\u001b[1;36m\u001b[0m\n\u001b[1;33m    high_scorers = foot_ball[\"Goals\"]>5] high_scorers\u001b[0m\n\u001b[1;37m                                       ^\u001b[0m\n\u001b[1;31mSyntaxError\u001b[0m\u001b[1;31m:\u001b[0m unmatched ']'\n"
     ]
    }
   ],
   "source": [
    "import pandas as pd\n",
    "foot_ball = pd.read.csv(\"football.csv\")\n",
    "foot_ball.tails(7)\n",
    "foot_ball.loc[:[\"Nationality\", \"club\"]]\n",
    "foot_ball.iloc[9]\n",
    "foot_ball.loc[100:110, [\"Goals\", \"Appearances\"]]\n",
    "foot_ball[\"Goals per Appearance\"] =foot_ball[\"Goals\"]/foot_ball[\"Appearance\"]foot_ball.head()\n",
    "arsenal_players = foot_ball[foot_ball[\"Club\"]==\"arsenal\"]arsenal_players\n",
    "high_scorers = foot_ball[\"Goals\"]>5] high_scorers"
   ]
  },
  {
   "cell_type": "code",
   "execution_count": null,
   "id": "a9014dae-18c7-45a5-b58a-b3c60a395b4f",
   "metadata": {},
   "outputs": [],
   "source": []
  }
 ],
 "metadata": {
  "kernelspec": {
   "display_name": "Python 3 (ipykernel)",
   "language": "python",
   "name": "python3"
  },
  "language_info": {
   "codemirror_mode": {
    "name": "ipython",
    "version": 3
   },
   "file_extension": ".py",
   "mimetype": "text/x-python",
   "name": "python",
   "nbconvert_exporter": "python",
   "pygments_lexer": "ipython3",
   "version": "3.11.7"
  }
 },
 "nbformat": 4,
 "nbformat_minor": 5
}
