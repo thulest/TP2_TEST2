{
 "cells": [
  {
   "cell_type": "markdown",
   "id": "3ee752df-fb96-4c3b-ac02-6c890e32f5f3",
   "metadata": {},
   "source": [
    "## Dataset Documentation and Justification\n",
    "\n",
    "\n",
    "### Dataset Source\n",
    "\n",
    "The dataset used for this analysis is titled **\"Informal Settlement Matrix\"**and is publicy available on the openAFRICA platform.The dataset can be accessed an downloaded in CSV format from the following link:\n",
    "\n",
    "-[Informal Settlement Matrix - openAFRICA](https://open.africa/dataset/informal-settlement-matrix-494914)\n",
    "\n",
    "\n",
    "### Justification for dataset Suitability\n",
    "\n",
    "The chosen dataset is highly suitable for the analysis of informal settlements in South Africa for several reasons, including data completeness, relevance, and the credibility of the source.\n",
    "\n",
    "#### Data Completeness\n",
    "\n",
    "The dataset provides comprehensive information on various aspects of informal settlements, including demographic data, geographical locations, and access to basic services. This ensure that the dataset covers a broad spectrum of relevant factors necessary for thorough analysis. The key columns include:\n",
    "\n",
    "-`Settlements Name`\n",
    "-`Province`\n",
    "-`Municipality`\n",
    "-`NUMber of households`\n",
    "-`Population`\n",
    "\n",
    "#### Relevance\n",
    "\n",
    "1. **Geographical Information**:\n",
    "   -**Column**: `Province`\n",
    "   -**Relevance**:This column provides insight into the regional distribution of informal sttlements across South Africa. Analyzing data by province helps in understanding the geographical spread and regional challenges associated with informal settlements.\n",
    "\n",
    "2.**Demographic Information**:\n",
    "    -**Column**:`Number of HouseHolds`\n",
    "    -**Relevance**: This column indicates the size of each informal settlement in terms of the number of households. This information is critical for assessing scale of infrastructure needs and planning resource allocation effectively.\n",
    "\n",
    "#### Credibility of the Source\n",
    "\n",
    "The dataset is hosted on openAFRICA, a reputable platform known for its collection of reliable and accurate data related to various socio-economic factors across the african continent. The dataset is provided by **Code For Africa**, The continet's Largest non-profit civic technology and open data initiative, Which ensures high data quality and credibility.\n",
    "\n",
    "### Conclusion\n",
    "\n",
    "Given its comprehensivev coverage, relevance to the key aspects of informal settlements, and the credibility of the source,the \"Informal Settlement Matrix\" Dataset is well-suited for analyzing trends related to the emergence and development of informal settlements in South Africa. This dataset will facilitate data-driven solution aimed at improving living conditions and promoting sustainable development whithin these communities."
   ]
  },
  {
   "cell_type": "code",
   "execution_count": 1,
   "id": "97206f73-1698-4a03-a1b0-e0fc2441e520",
   "metadata": {},
   "outputs": [
    {
     "data": {
      "text/plain": [
       "'C:\\\\Users\\\\thula'"
      ]
     },
     "execution_count": 1,
     "metadata": {},
     "output_type": "execute_result"
    }
   ],
   "source": [
    "pwd"
   ]
  },
  {
   "cell_type": "code",
   "execution_count": 2,
   "id": "ed6599c2-fddf-4c57-ad20-6d128e596cca",
   "metadata": {},
   "outputs": [],
   "source": [
    "import pandas as pd"
   ]
  },
  {
   "cell_type": "code",
   "execution_count": 3,
   "id": "4c82d377-1d0d-40ff-afd2-46f42495e4a5",
   "metadata": {},
   "outputs": [],
   "source": [
    "import numpy as np"
   ]
  },
  {
   "cell_type": "code",
   "execution_count": 4,
   "id": "877b98e1-e74c-447e-a37f-6c38106b90d2",
   "metadata": {},
   "outputs": [],
   "source": [
    "import matplotlib.pyplot as plt"
   ]
  },
  {
   "cell_type": "code",
   "execution_count": 5,
   "id": "def6a8f3-4b35-4468-99b9-d9797958e855",
   "metadata": {},
   "outputs": [],
   "source": [
    "import seaborn as sns"
   ]
  },
  {
   "cell_type": "markdown",
   "id": "e16e459d-5db9-47de-b2cb-7472e9f1e8fa",
   "metadata": {},
   "source": [
    "# load the dataset"
   ]
  },
  {
   "cell_type": "code",
   "execution_count": 12,
   "id": "44f2b343-8df2-46a6-83a0-b181183d9125",
   "metadata": {},
   "outputs": [],
   "source": [
    "file_path ='C:\\\\Users\\\\thula\\goden.csv'\n",
    "df = pd.read_csv(\"C:\\\\Users\\\\thula\\goden.csv\")"
   ]
  },
  {
   "cell_type": "markdown",
   "id": "16577dff-7bf4-45df-a2d7-03f0b61c8c8b",
   "metadata": {},
   "source": [
    "# Display the first few rowsin the dataframe"
   ]
  },
  {
   "cell_type": "code",
   "execution_count": 13,
   "id": "aff7161c-f09e-4a49-8b6c-2afbeab9b1cc",
   "metadata": {},
   "outputs": [
    {
     "name": "stdout",
     "output_type": "stream",
     "text": [
      "First few rows of the dataframe\n",
      "    is_cluster  pocket_name                pocket_alias   ward_id  \\\n",
      "0       4 in 1       4 in 1  Wallacedene 14 / J Section  19100006   \n",
      "1  Acacia Road  Acacia Road      Acacia Park - Parktown  19100066   \n",
      "2    Amy Biehl    Amy Biehl                 School Site  19100034   \n",
      "3  Appel Boord  Appel Boord                         NaN  19100022   \n",
      "4       Area K       Area K                 Never Never  19100088   \n",
      "\n",
      "           ward_councillor  avg_hhsize  area_ha  density_dwellings  \\\n",
      "0      Simpiwe Nonkeyizana        3.72    2.952          50.813008   \n",
      "1          Melanie Arendse        4.51    0.070         114.285714   \n",
      "2         Fikiswa Nkunzana        2.89    1.711         301.578025   \n",
      "3          Johanna Martlow        4.14    0.088         159.090909   \n",
      "4  Patrick (Pat) Pietersen        4.17    2.661         249.154453   \n",
      "\n",
      "   structure_count      age_of_is  ... toilets_full_flush  toilets_chemical  \\\n",
      "0              150  15 - 20 years  ...               32.0               0.0   \n",
      "1                8  10 - 15 years  ...                3.0               2.0   \n",
      "2              516  15 - 20 years  ...               93.0               0.0   \n",
      "3               14   5 - 10 years  ...               10.0               0.0   \n",
      "4              663  10 - 15 years  ...              121.0               0.0   \n",
      "\n",
      "   toilets_portable  toilets_container  toilets_other  toilets_total  \\\n",
      "0               0.0                0.0            0.0           32.0   \n",
      "1               0.0                0.0            0.0            5.0   \n",
      "2               0.0                0.0            0.0           93.0   \n",
      "3               0.0                0.0            0.0           10.0   \n",
      "4               0.0                0.0            0.0          121.0   \n",
      "\n",
      "   ratio_toilets_dwellings  pocket_code  centroidx  centroidy  \n",
      "0                      1:5    NORFOU001  18.732603 -33.863384  \n",
      "1                      1:2    HILACA001  18.501024 -34.032822  \n",
      "2                      1:6    MITAMY001  18.587852 -34.002772  \n",
      "3                      1:1    TYGAPP001  18.609142 -33.926268  \n",
      "4                      1:5    MITARE001  18.598543 -34.008208  \n",
      "\n",
      "[5 rows x 22 columns]\n"
     ]
    }
   ],
   "source": [
    "print(\"First few rows of the dataframe\")\n",
    "print(df.head())"
   ]
  },
  {
   "cell_type": "markdown",
   "id": "4e5b441b-b747-4938-8295-ca51190c8766",
   "metadata": {},
   "source": [
    "# Understandi the size of dataset"
   ]
  },
  {
   "cell_type": "code",
   "execution_count": 15,
   "id": "b0c2ead0-10e3-4862-bdb4-b3444bed328e",
   "metadata": {},
   "outputs": [
    {
     "name": "stdout",
     "output_type": "stream",
     "text": [
      "\n",
      "Size of the dataset\n",
      "Number of rows:434\n",
      "Number of columns:22\n"
     ]
    }
   ],
   "source": [
    "print(\"\\nSize of the dataset\")\n",
    "print(f\"Number of rows:{df.shape[0]}\")\n",
    "print(f\"Number of columns:{df.shape[1]}\")"
   ]
  },
  {
   "cell_type": "markdown",
   "id": "3c589b41-0259-4919-a717-2ba278276a1b",
   "metadata": {},
   "source": [
    "# Data types of columns"
   ]
  },
  {
   "cell_type": "code",
   "execution_count": 16,
   "id": "6c05c828-33d9-4448-8460-42593bf6dd33",
   "metadata": {},
   "outputs": [
    {
     "name": "stdout",
     "output_type": "stream",
     "text": [
      "\n",
      "Data types of each column:\n",
      "is_cluster                  object\n",
      "pocket_name                 object\n",
      "pocket_alias                object\n",
      "ward_id                      int64\n",
      "ward_councillor             object\n",
      "avg_hhsize                 float64\n",
      "area_ha                    float64\n",
      "density_dwellings          float64\n",
      "structure_count              int64\n",
      "age_of_is                   object\n",
      "upgrade_category            object\n",
      "temp_sanitation            float64\n",
      "toilets_full_flush         float64\n",
      "toilets_chemical           float64\n",
      "toilets_portable           float64\n",
      "toilets_container          float64\n",
      "toilets_other              float64\n",
      "toilets_total              float64\n",
      "ratio_toilets_dwellings     object\n",
      "pocket_code                 object\n",
      "centroidx                  float64\n",
      "centroidy                  float64\n",
      "dtype: object\n"
     ]
    }
   ],
   "source": [
    "print(\"\\nData types of each column:\")\n",
    "print(df.dtypes)"
   ]
  },
  {
   "cell_type": "markdown",
   "id": "9658f007-427e-4916-8c4a-c4cedace5214",
   "metadata": {},
   "source": [
    "# Columns and their types"
   ]
  },
  {
   "cell_type": "code",
   "execution_count": 17,
   "id": "f6eefd07-6c50-4d15-909c-c071b2a32c1d",
   "metadata": {},
   "outputs": [
    {
     "name": "stdout",
     "output_type": "stream",
     "text": [
      "\n",
      "Columns in the dataset\n",
      "Index(['is_cluster', 'pocket_name', 'pocket_alias', 'ward_id',\n",
      "       'ward_councillor', 'avg_hhsize', 'area_ha', 'density_dwellings',\n",
      "       'structure_count', 'age_of_is', 'upgrade_category', 'temp_sanitation',\n",
      "       'toilets_full_flush', 'toilets_chemical', 'toilets_portable',\n",
      "       'toilets_container', 'toilets_other', 'toilets_total',\n",
      "       'ratio_toilets_dwellings', 'pocket_code', 'centroidx', 'centroidy'],\n",
      "      dtype='object')\n"
     ]
    }
   ],
   "source": [
    "print(\"\\nColumns in the dataset\")\n",
    "print(df.columns)"
   ]
  },
  {
   "cell_type": "markdown",
   "id": "0998b983-b966-4bef-bb4d-fb953b88f36e",
   "metadata": {},
   "source": [
    "# Summary statistics of the dataset"
   ]
  },
  {
   "cell_type": "raw",
   "id": "f6243030-bba8-4913-ac42-482058f594c7",
   "metadata": {},
   "source": [
    "print(\"\\nSummary statistics of the dataset:\")\n",
    "print(df.descibe(include='All'))"
   ]
  },
  {
   "cell_type": "markdown",
   "id": "a7033a7e-ead4-42b6-a0f0-359f4841cdf9",
   "metadata": {},
   "source": [
    "# Check for missing data"
   ]
  },
  {
   "cell_type": "code",
   "execution_count": 18,
   "id": "8eb2dd6e-3d3f-4de4-940c-190c6b6eaa20",
   "metadata": {},
   "outputs": [
    {
     "name": "stdout",
     "output_type": "stream",
     "text": [
      "\n",
      "Missing data in each column:\n",
      "is_cluster                   0\n",
      "pocket_name                  0\n",
      "pocket_alias               242\n",
      "ward_id                      0\n",
      "ward_councillor              0\n",
      "avg_hhsize                   0\n",
      "area_ha                      0\n",
      "density_dwellings            0\n",
      "structure_count              0\n",
      "age_of_is                    0\n",
      "upgrade_category             0\n",
      "temp_sanitation              0\n",
      "toilets_full_flush           0\n",
      "toilets_chemical             0\n",
      "toilets_portable             0\n",
      "toilets_container            0\n",
      "toilets_other                0\n",
      "toilets_total                0\n",
      "ratio_toilets_dwellings     91\n",
      "pocket_code                  0\n",
      "centroidx                    0\n",
      "centroidy                    0\n",
      "dtype: int64\n"
     ]
    }
   ],
   "source": [
    "print(\"\\nMissing data in each column:\")\n",
    "print(df.isnull().sum())"
   ]
  },
  {
   "cell_type": "markdown",
   "id": "54ec0d2f-6968-48b0-9d0a-68539ff776de",
   "metadata": {},
   "source": [
    "# Visual missing data"
   ]
  },
  {
   "cell_type": "code",
   "execution_count": 21,
   "id": "9a1e5cb3-002d-4df7-a6f4-ecc42a154764",
   "metadata": {},
   "outputs": [
    {
     "data": {
      "image/png": "[encoded data removed]",
      "text/plain": [
       "<Figure size 1200x800 with 1 Axes>"
      ]
     },
     "metadata": {},
     "output_type": "display_data"
    }
   ],
   "source": [
    "plt.figure(figsize =(12, 8))\n",
    "sns.heatmap(df.isnull(), cbar = False, cmap= 'viridis')\n",
    "plt.title(\"Missing data heatmap\")\n",
    "plt.show()"
   ]
  },
  {
   "cell_type": "markdown",
   "id": "e301ae98-0011-4bbd-b494-5abb816973e5",
   "metadata": {},
   "source": [
    "# Filling the missing values"
   ]
  },
  {
   "cell_type": "code",
   "execution_count": 24,
   "id": "bed168a9-460a-4d2a-b82e-0e2dcf555f43",
   "metadata": {},
   "outputs": [
    {
     "name": "stdout",
     "output_type": "stream",
     "text": [
      "\n",
      "Missing data after filling:\n",
      "is_cluster                 0\n",
      "pocket_name                0\n",
      "pocket_alias               0\n",
      "ward_id                    0\n",
      "ward_councillor            0\n",
      "avg_hhsize                 0\n",
      "area_ha                    0\n",
      "density_dwellings          0\n",
      "structure_count            0\n",
      "age_of_is                  0\n",
      "upgrade_category           0\n",
      "temp_sanitation            0\n",
      "toilets_full_flush         0\n",
      "toilets_chemical           0\n",
      "toilets_portable           0\n",
      "toilets_container          0\n",
      "toilets_other              0\n",
      "toilets_total              0\n",
      "ratio_toilets_dwellings    0\n",
      "pocket_code                0\n",
      "centroidx                  0\n",
      "centroidy                  0\n",
      "dtype: int64\n"
     ]
    }
   ],
   "source": [
    "for column in df.columns:\n",
    "    if df[column].dtype == 'object':\n",
    "        df[column].fillna(df[column].mode()[0], inplace = True)\n",
    "    else:\n",
    "        df[column].fillna(df[column].mean(), inplace = True)\n",
    "print(\"\\nMissing data after filling:\")\n",
    "print(df.isnull().sum())"
   ]
  },
  {
   "cell_type": "markdown",
   "id": "641d509a-4e0c-412a-97db-134b915cd935",
   "metadata": {},
   "source": [
    "# Nomarlizing  Numerical data"
   ]
  },
  {
   "cell_type": "code",
   "execution_count": 39,
   "id": "e1461602-1011-4577-bbc7-ab9d52c5d8b0",
   "metadata": {},
   "outputs": [
    {
     "name": "stdout",
     "output_type": "stream",
     "text": [
      "\n",
      "Normalized numerical data:\n",
      "    ward_id  avg_hhsize   area_ha  density_dwellings  structure_count  \\\n",
      "0 -1.866390    0.715522 -0.045882          -0.727035        -0.218666   \n",
      "1  0.069820    2.191955 -0.133398          -0.378085        -0.384054   \n",
      "2 -0.962826   -0.835666 -0.083567           0.651583         0.207615   \n",
      "3 -1.350068    1.500461 -0.132852          -0.131762        -0.377065   \n",
      "4  0.779763    1.556528 -0.054719           0.363376         0.378826   \n",
      "\n",
      "   temp_sanitation  toilets_full_flush  toilets_chemical  toilets_portable  \\\n",
      "0        -0.716295            0.008162         -0.236812         -0.178859   \n",
      "1         0.197072           -0.322132         -0.195922         -0.178859   \n",
      "2        -0.716295            0.702916         -0.236812         -0.178859   \n",
      "3        -0.716295           -0.242406         -0.236812         -0.178859   \n",
      "4        -0.716295            1.021820         -0.236812         -0.178859   \n",
      "\n",
      "   toilets_container  toilets_other  toilets_total  centroidx  centroidy  \n",
      "0          -0.160277      -0.101285      -0.197668   1.218533   1.248309  \n",
      "1          -0.160277      -0.101285      -0.283609  -0.964419  -0.460160  \n",
      "2          -0.160277      -0.101285      -0.003506  -0.145945  -0.157161  \n",
      "3          -0.160277      -0.101285      -0.267694   0.054743   0.614241  \n",
      "4          -0.160277      -0.101285       0.085618  -0.045168  -0.211973  \n"
     ]
    }
   ],
   "source": [
    "from sklearn.preprocessing import StandardScaler\n",
    "numerical_columns = df.select_dtypes(include =[np.number]).columns\n",
    "Scaler = StandardScaler()\n",
    "df[numerical_columns]= Scaler.fit_transform(df[numerical_columns])\n",
    "print(\"\\nNormalized numerical data:\")\n",
    "print(df[numerical_columns].head())"
   ]
  },
  {
   "cell_type": "markdown",
   "id": "a79f9648-f757-44b1-839d-6a26adc21559",
   "metadata": {},
   "source": [
    "# Save cleaned dataset"
   ]
  },
  {
   "cell_type": "code",
   "execution_count": 44,
   "id": "0e27e59d-3867-48a0-b876-bf973eaf9b9b",
   "metadata": {},
   "outputs": [
    {
     "name": "stdout",
     "output_type": "stream",
     "text": [
      "\n",
      "cleaned dataset saved tocleaned_dataset.csv\n"
     ]
    }
   ],
   "source": [
    "cleaned_file_path = 'cleaned_dataset.csv'\n",
    "df.to_csv(cleaned_file_path, index=False)\n",
    "print(f\"\\ncleaned dataset saved to{cleaned_file_path}\")"
   ]
  },
  {
   "cell_type": "code",
   "execution_count": 61,
   "id": "ba9ba6a6-0f79-42fb-bba7-d11f53bb27e2",
   "metadata": {},
   "outputs": [],
   "source": [
    "import pandas as pd\n",
    "import numpy as np\n",
    "import matplotlib.pyplot as plt\n",
    "import seaborn as sns\n",
    "import plotly.express as px\n"
   ]
  },
  {
   "cell_type": "markdown",
   "id": "a60b2084-d6fc-4b46-949a-364dcacda81c",
   "metadata": {},
   "source": [
    "# load Dataset"
   ]
  },
  {
   "cell_type": "code",
   "execution_count": 62,
   "id": "2569bc39-9be6-4a79-b36a-893bc1803cdc",
   "metadata": {},
   "outputs": [],
   "source": [
    "file_path = 'C:\\\\Users\\\\thula\\cleaned_dataset.csv'"
   ]
  },
  {
   "cell_type": "code",
   "execution_count": 63,
   "id": "678d0acd-5acb-48b1-b1df-e6b247bdcb02",
   "metadata": {},
   "outputs": [],
   "source": [
    "df = pd.read_csv(\"C:\\\\Users\\\\thula\\cleaned_dataset.csv\")"
   ]
  },
  {
   "cell_type": "markdown",
   "id": "a3349e3a-5f33-4804-95bf-e94c137cc468",
   "metadata": {},
   "source": [
    "# Display the first few rows of data frame"
   ]
  },
  {
   "cell_type": "code",
   "execution_count": 64,
   "id": "e837e0bf-a876-492a-8dce-d6d9e42b4c8d",
   "metadata": {},
   "outputs": [
    {
     "name": "stdout",
     "output_type": "stream",
     "text": [
      "first few rows of the dataframe:\n",
      "    is_cluster  pocket_name                pocket_alias   ward_id  \\\n",
      "0       4 in 1       4 in 1  Wallacedene 14 / J Section -1.866390   \n",
      "1  Acacia Road  Acacia Road      Acacia Park - Parktown  0.069820   \n",
      "2    Amy Biehl    Amy Biehl                 School Site -0.962826   \n",
      "3  Appel Boord  Appel Boord         Crossroads 13/14/16 -1.350068   \n",
      "4       Area K       Area K                 Never Never  0.779763   \n",
      "\n",
      "           ward_councillor  avg_hhsize   area_ha  density_dwellings  \\\n",
      "0      Simpiwe Nonkeyizana    0.715522 -0.045882          -0.727035   \n",
      "1          Melanie Arendse    2.191955 -0.133398          -0.378085   \n",
      "2         Fikiswa Nkunzana   -0.835666 -0.083567           0.651583   \n",
      "3          Johanna Martlow    1.500461 -0.132852          -0.131762   \n",
      "4  Patrick (Pat) Pietersen    1.556528 -0.054719           0.363376   \n",
      "\n",
      "   structure_count      age_of_is  ... toilets_full_flush  toilets_chemical  \\\n",
      "0        -0.218666  15 - 20 years  ...           0.008162         -0.236812   \n",
      "1        -0.384054  10 - 15 years  ...          -0.322132         -0.195922   \n",
      "2         0.207615  15 - 20 years  ...           0.702916         -0.236812   \n",
      "3        -0.377065   5 - 10 years  ...          -0.242406         -0.236812   \n",
      "4         0.378826  10 - 15 years  ...           1.021820         -0.236812   \n",
      "\n",
      "   toilets_portable  toilets_container  toilets_other  toilets_total  \\\n",
      "0         -0.178859          -0.160277      -0.101285      -0.197668   \n",
      "1         -0.178859          -0.160277      -0.101285      -0.283609   \n",
      "2         -0.178859          -0.160277      -0.101285      -0.003506   \n",
      "3         -0.178859          -0.160277      -0.101285      -0.267694   \n",
      "4         -0.178859          -0.160277      -0.101285       0.085618   \n",
      "\n",
      "   ratio_toilets_dwellings  pocket_code centroidx centroidy  \n",
      "0                      1:5    NORFOU001  1.218533  1.248309  \n",
      "1                      1:2    HILACA001 -0.964419 -0.460160  \n",
      "2                      1:6    MITAMY001 -0.145945 -0.157161  \n",
      "3                      1:1    TYGAPP001  0.054743  0.614241  \n",
      "4                      1:5    MITARE001 -0.045168 -0.211973  \n",
      "\n",
      "[5 rows x 22 columns]\n"
     ]
    }
   ],
   "source": [
    "print(\"first few rows of the dataframe:\")\n",
    "print(df.head())"
   ]
  },
  {
   "cell_type": "markdown",
   "id": "a03e47a8-d3f7-4000-abcb-47de207ec8fa",
   "metadata": {},
   "source": [
    "# Summary Statistics"
   ]
  },
  {
   "cell_type": "code",
   "execution_count": 65,
   "id": "8150f954-a415-416b-9284-9415a8446803",
   "metadata": {},
   "outputs": [
    {
     "name": "stdout",
     "output_type": "stream",
     "text": [
      "\n",
      "Summary statictics of the dataset:\n",
      "                is_cluster pocket_name         pocket_alias       ward_id  \\\n",
      "count                  434         434                  434  4.340000e+02   \n",
      "unique                 202         434                  186           NaN   \n",
      "top     Crossroads Infills      4 in 1  Crossroads 13/14/16           NaN   \n",
      "freq                    22           1                  245           NaN   \n",
      "mean                   NaN         NaN                  NaN -1.994365e-11   \n",
      "std                    NaN         NaN                  NaN  1.001154e+00   \n",
      "min                    NaN         NaN                  NaN -1.930930e+00   \n",
      "25%                    NaN         NaN                  NaN -8.982853e-01   \n",
      "50%                    NaN         NaN                  NaN  1.666300e-01   \n",
      "75%                    NaN         NaN                  NaN  8.443034e-01   \n",
      "max                    NaN         NaN                  NaN  1.521977e+00   \n",
      "\n",
      "         ward_councillor    avg_hhsize       area_ha  density_dwellings  \\\n",
      "count                434  4.340000e+02  4.340000e+02       4.340000e+02   \n",
      "unique                74           NaN           NaN                NaN   \n",
      "top     Thembinkosi Pupa           NaN           NaN                NaN   \n",
      "freq                  27           NaN           NaN                NaN   \n",
      "mean                 NaN -8.963644e-16  2.865092e-17       2.046494e-17   \n",
      "std                  NaN  1.001154e+00  1.001154e+00       1.001154e+00   \n",
      "min                  NaN -2.143897e+00 -1.352204e-01      -1.006387e+00   \n",
      "25%                  NaN -8.309937e-01 -1.312727e-01      -5.114731e-01   \n",
      "50%                  NaN -2.002395e-01 -1.237114e-01      -4.602924e-02   \n",
      "75%                  NaN  6.968333e-01 -7.770612e-02       3.915258e-01   \n",
      "max                  NaN  3.313296e+00  2.019203e+01       1.552669e+01   \n",
      "\n",
      "        structure_count      age_of_is  ... toilets_full_flush  \\\n",
      "count      4.340000e+02            434  ...       4.340000e+02   \n",
      "unique              NaN              5  ...                NaN   \n",
      "top                 NaN  15 - 20 years  ...                NaN   \n",
      "freq                NaN            183  ...                NaN   \n",
      "mean       6.139482e-18            NaN  ...       3.786014e-17   \n",
      "std        1.001154e+00            NaN  ...       1.001154e+00   \n",
      "min       -3.933712e-01            NaN  ...      -3.563000e-01   \n",
      "25%       -3.689125e-01            NaN  ...      -3.563000e-01   \n",
      "50%       -3.316420e-01            NaN  ...      -3.107423e-01   \n",
      "75%       -5.619013e-02            NaN  ...      -1.740692e-01   \n",
      "max        8.881146e+00            NaN  ...       1.211512e+01   \n",
      "\n",
      "        toilets_chemical  toilets_portable  toilets_container  toilets_other  \\\n",
      "count       4.340000e+02      4.340000e+02       4.340000e+02   4.340000e+02   \n",
      "unique               NaN               NaN                NaN            NaN   \n",
      "top                  NaN               NaN                NaN            NaN   \n",
      "freq                 NaN               NaN                NaN            NaN   \n",
      "mean        4.092988e-17      4.297638e-17      -1.637195e-17   7.367379e-17   \n",
      "std         1.001154e+00      1.001154e+00       1.001154e+00   1.001154e+00   \n",
      "min        -2.368121e-01     -1.788585e-01      -1.602767e-01  -1.012845e-01   \n",
      "25%        -2.368121e-01     -1.788585e-01      -1.602767e-01  -1.012845e-01   \n",
      "50%        -2.368121e-01     -1.788585e-01      -1.602767e-01  -1.012845e-01   \n",
      "75%        -2.368121e-01     -1.788585e-01      -1.602767e-01  -1.012845e-01   \n",
      "max         1.158033e+01      1.497275e+01       1.193773e+01   1.864581e+01   \n",
      "\n",
      "        toilets_total  ratio_toilets_dwellings  pocket_code     centroidx  \\\n",
      "count    4.340000e+02                      434          434  4.340000e+02   \n",
      "unique            NaN                       31          434           NaN   \n",
      "top               NaN                      1:1    NORFOU001           NaN   \n",
      "freq              NaN                      144            1           NaN   \n",
      "mean     4.706936e-17                      NaN          NaN  1.876226e-14   \n",
      "std      1.001154e+00                      NaN          NaN  1.001154e+00   \n",
      "min     -2.995242e-01                      NaN          NaN -2.471848e+00   \n",
      "25%     -2.899752e-01                      NaN          NaN -5.527735e-01   \n",
      "50%     -2.676942e-01                      NaN          NaN -1.191035e-01   \n",
      "75%     -1.165020e-01                      NaN          NaN  5.543548e-01   \n",
      "max      1.500113e+01                      NaN          NaN  2.892969e+00   \n",
      "\n",
      "           centroidy  \n",
      "count   4.340000e+02  \n",
      "unique           NaN  \n",
      "top              NaN  \n",
      "freq             NaN  \n",
      "mean   -1.519317e-14  \n",
      "std     1.001154e+00  \n",
      "min    -2.172420e+00  \n",
      "25%    -3.897918e-01  \n",
      "50%    -1.847434e-01  \n",
      "75%     1.608781e-02  \n",
      "max     4.527401e+00  \n",
      "\n",
      "[11 rows x 22 columns]\n"
     ]
    }
   ],
   "source": [
    "print(\"\\nSummary statictics of the dataset:\")\n",
    "print(df.describe(include='all'))"
   ]
  },
  {
   "cell_type": "markdown",
   "id": "4bc4eb3c-3333-4fa9-af20-16c6b1c4304e",
   "metadata": {},
   "source": [
    "# Inforgraphic Charts"
   ]
  },
  {
   "cell_type": "markdown",
   "id": "c96b083d-b893-41ee-9fce-6b25b51b9dac",
   "metadata": {},
   "source": [
    "# Columns in the dataset"
   ]
  },
  {
   "cell_type": "code",
   "execution_count": 76,
   "id": "eda22331-9d97-47db-a3b5-fda4a7150ebd",
   "metadata": {},
   "outputs": [
    {
     "data": {
      "text/html": [
       "<div>\n",
       "<style scoped>\n",
       "    .dataframe tbody tr th:only-of-type {\n",
       "        vertical-align: middle;\n",
       "    }\n",
       "\n",
       "    .dataframe tbody tr th {\n",
       "        vertical-align: top;\n",
       "    }\n",
       "\n",
       "    .dataframe thead th {\n",
       "        text-align: right;\n",
       "    }\n",
       "</style>\n",
       "<table border=\"1\" class=\"dataframe\">\n",
       "  <thead>\n",
       "    <tr style=\"text-align: right;\">\n",
       "      <th></th>\n",
       "      <th>is_cluster</th>\n",
       "      <th>pocket_name</th>\n",
       "      <th>pocket_alias</th>\n",
       "      <th>ward_id</th>\n",
       "      <th>ward_councillor</th>\n",
       "      <th>avg_hhsize</th>\n",
       "      <th>area_ha</th>\n",
       "      <th>density_dwellings</th>\n",
       "      <th>structure_count</th>\n",
       "      <th>age_of_is</th>\n",
       "      <th>...</th>\n",
       "      <th>toilets_full_flush</th>\n",
       "      <th>toilets_chemical</th>\n",
       "      <th>toilets_portable</th>\n",
       "      <th>toilets_container</th>\n",
       "      <th>toilets_other</th>\n",
       "      <th>toilets_total</th>\n",
       "      <th>ratio_toilets_dwellings</th>\n",
       "      <th>pocket_code</th>\n",
       "      <th>centroidx</th>\n",
       "      <th>centroidy</th>\n",
       "    </tr>\n",
       "  </thead>\n",
       "  <tbody>\n",
       "    <tr>\n",
       "      <th>0</th>\n",
       "      <td>4 in 1</td>\n",
       "      <td>4 in 1</td>\n",
       "      <td>Wallacedene 14 / J Section</td>\n",
       "      <td>-1.866390</td>\n",
       "      <td>Simpiwe Nonkeyizana</td>\n",
       "      <td>0.715522</td>\n",
       "      <td>-0.045882</td>\n",
       "      <td>-0.727035</td>\n",
       "      <td>-0.218666</td>\n",
       "      <td>15 - 20 years</td>\n",
       "      <td>...</td>\n",
       "      <td>0.008162</td>\n",
       "      <td>-0.236812</td>\n",
       "      <td>-0.178859</td>\n",
       "      <td>-0.160277</td>\n",
       "      <td>-0.101285</td>\n",
       "      <td>-0.197668</td>\n",
       "      <td>1:5</td>\n",
       "      <td>NORFOU001</td>\n",
       "      <td>1.218533</td>\n",
       "      <td>1.248309</td>\n",
       "    </tr>\n",
       "    <tr>\n",
       "      <th>1</th>\n",
       "      <td>Acacia Road</td>\n",
       "      <td>Acacia Road</td>\n",
       "      <td>Acacia Park - Parktown</td>\n",
       "      <td>0.069820</td>\n",
       "      <td>Melanie Arendse</td>\n",
       "      <td>2.191955</td>\n",
       "      <td>-0.133398</td>\n",
       "      <td>-0.378085</td>\n",
       "      <td>-0.384054</td>\n",
       "      <td>10 - 15 years</td>\n",
       "      <td>...</td>\n",
       "      <td>-0.322132</td>\n",
       "      <td>-0.195922</td>\n",
       "      <td>-0.178859</td>\n",
       "      <td>-0.160277</td>\n",
       "      <td>-0.101285</td>\n",
       "      <td>-0.283609</td>\n",
       "      <td>1:2</td>\n",
       "      <td>HILACA001</td>\n",
       "      <td>-0.964419</td>\n",
       "      <td>-0.460160</td>\n",
       "    </tr>\n",
       "    <tr>\n",
       "      <th>2</th>\n",
       "      <td>Amy Biehl</td>\n",
       "      <td>Amy Biehl</td>\n",
       "      <td>School Site</td>\n",
       "      <td>-0.962826</td>\n",
       "      <td>Fikiswa Nkunzana</td>\n",
       "      <td>-0.835666</td>\n",
       "      <td>-0.083567</td>\n",
       "      <td>0.651583</td>\n",
       "      <td>0.207615</td>\n",
       "      <td>15 - 20 years</td>\n",
       "      <td>...</td>\n",
       "      <td>0.702916</td>\n",
       "      <td>-0.236812</td>\n",
       "      <td>-0.178859</td>\n",
       "      <td>-0.160277</td>\n",
       "      <td>-0.101285</td>\n",
       "      <td>-0.003506</td>\n",
       "      <td>1:6</td>\n",
       "      <td>MITAMY001</td>\n",
       "      <td>-0.145945</td>\n",
       "      <td>-0.157161</td>\n",
       "    </tr>\n",
       "    <tr>\n",
       "      <th>3</th>\n",
       "      <td>Appel Boord</td>\n",
       "      <td>Appel Boord</td>\n",
       "      <td>Crossroads 13/14/16</td>\n",
       "      <td>-1.350068</td>\n",
       "      <td>Johanna Martlow</td>\n",
       "      <td>1.500461</td>\n",
       "      <td>-0.132852</td>\n",
       "      <td>-0.131762</td>\n",
       "      <td>-0.377065</td>\n",
       "      <td>5 - 10 years</td>\n",
       "      <td>...</td>\n",
       "      <td>-0.242406</td>\n",
       "      <td>-0.236812</td>\n",
       "      <td>-0.178859</td>\n",
       "      <td>-0.160277</td>\n",
       "      <td>-0.101285</td>\n",
       "      <td>-0.267694</td>\n",
       "      <td>1:1</td>\n",
       "      <td>TYGAPP001</td>\n",
       "      <td>0.054743</td>\n",
       "      <td>0.614241</td>\n",
       "    </tr>\n",
       "    <tr>\n",
       "      <th>4</th>\n",
       "      <td>Area K</td>\n",
       "      <td>Area K</td>\n",
       "      <td>Never Never</td>\n",
       "      <td>0.779763</td>\n",
       "      <td>Patrick (Pat) Pietersen</td>\n",
       "      <td>1.556528</td>\n",
       "      <td>-0.054719</td>\n",
       "      <td>0.363376</td>\n",
       "      <td>0.378826</td>\n",
       "      <td>10 - 15 years</td>\n",
       "      <td>...</td>\n",
       "      <td>1.021820</td>\n",
       "      <td>-0.236812</td>\n",
       "      <td>-0.178859</td>\n",
       "      <td>-0.160277</td>\n",
       "      <td>-0.101285</td>\n",
       "      <td>0.085618</td>\n",
       "      <td>1:5</td>\n",
       "      <td>MITARE001</td>\n",
       "      <td>-0.045168</td>\n",
       "      <td>-0.211973</td>\n",
       "    </tr>\n",
       "  </tbody>\n",
       "</table>\n",
       "<p>5 rows × 22 columns</p>\n",
       "</div>"
      ],
      "text/plain": [
       "    is_cluster  pocket_name                pocket_alias   ward_id  \\\n",
       "0       4 in 1       4 in 1  Wallacedene 14 / J Section -1.866390   \n",
       "1  Acacia Road  Acacia Road      Acacia Park - Parktown  0.069820   \n",
       "2    Amy Biehl    Amy Biehl                 School Site -0.962826   \n",
       "3  Appel Boord  Appel Boord         Crossroads 13/14/16 -1.350068   \n",
       "4       Area K       Area K                 Never Never  0.779763   \n",
       "\n",
       "           ward_councillor  avg_hhsize   area_ha  density_dwellings  \\\n",
       "0      Simpiwe Nonkeyizana    0.715522 -0.045882          -0.727035   \n",
       "1          Melanie Arendse    2.191955 -0.133398          -0.378085   \n",
       "2         Fikiswa Nkunzana   -0.835666 -0.083567           0.651583   \n",
       "3          Johanna Martlow    1.500461 -0.132852          -0.131762   \n",
       "4  Patrick (Pat) Pietersen    1.556528 -0.054719           0.363376   \n",
       "\n",
       "   structure_count      age_of_is  ... toilets_full_flush  toilets_chemical  \\\n",
       "0        -0.218666  15 - 20 years  ...           0.008162         -0.236812   \n",
       "1        -0.384054  10 - 15 years  ...          -0.322132         -0.195922   \n",
       "2         0.207615  15 - 20 years  ...           0.702916         -0.236812   \n",
       "3        -0.377065   5 - 10 years  ...          -0.242406         -0.236812   \n",
       "4         0.378826  10 - 15 years  ...           1.021820         -0.236812   \n",
       "\n",
       "   toilets_portable  toilets_container  toilets_other  toilets_total  \\\n",
       "0         -0.178859          -0.160277      -0.101285      -0.197668   \n",
       "1         -0.178859          -0.160277      -0.101285      -0.283609   \n",
       "2         -0.178859          -0.160277      -0.101285      -0.003506   \n",
       "3         -0.178859          -0.160277      -0.101285      -0.267694   \n",
       "4         -0.178859          -0.160277      -0.101285       0.085618   \n",
       "\n",
       "   ratio_toilets_dwellings  pocket_code centroidx centroidy  \n",
       "0                      1:5    NORFOU001  1.218533  1.248309  \n",
       "1                      1:2    HILACA001 -0.964419 -0.460160  \n",
       "2                      1:6    MITAMY001 -0.145945 -0.157161  \n",
       "3                      1:1    TYGAPP001  0.054743  0.614241  \n",
       "4                      1:5    MITARE001 -0.045168 -0.211973  \n",
       "\n",
       "[5 rows x 22 columns]"
      ]
     },
     "execution_count": 76,
     "metadata": {},
     "output_type": "execute_result"
    }
   ],
   "source": [
    "#read data from csv file\n",
    "df = pd.read_csv(\"C:\\\\Users\\\\thula\\cleaned_dataset.csv\")\n",
    "df.head()"
   ]
  },
  {
   "cell_type": "code",
   "execution_count": 77,
   "id": "e49a0d61-26d0-41c5-aa9e-dc2231120028",
   "metadata": {},
   "outputs": [
    {
     "data": {
      "text/plain": [
       "20"
      ]
     },
     "execution_count": 77,
     "metadata": {},
     "output_type": "execute_result"
    }
   ],
   "source": [
    "pd.get_option(\"display.max_columns\")"
   ]
  },
  {
   "cell_type": "code",
   "execution_count": 115,
   "id": "cb0c5bbc-f800-4281-a523-53b1abaeff66",
   "metadata": {},
   "outputs": [
    {
     "data": {
      "text/html": [
       "<div>\n",
       "<style scoped>\n",
       "    .dataframe tbody tr th:only-of-type {\n",
       "        vertical-align: middle;\n",
       "    }\n",
       "\n",
       "    .dataframe tbody tr th {\n",
       "        vertical-align: top;\n",
       "    }\n",
       "\n",
       "    .dataframe thead th {\n",
       "        text-align: right;\n",
       "    }\n",
       "</style>\n",
       "<table border=\"1\" class=\"dataframe\">\n",
       "  <thead>\n",
       "    <tr style=\"text-align: right;\">\n",
       "      <th></th>\n",
       "      <th>is_cluster</th>\n",
       "      <th>pocket_name</th>\n",
       "      <th>pocket_alias</th>\n",
       "      <th>ward_id</th>\n",
       "      <th>ward_councillor</th>\n",
       "      <th>avg_hhsize</th>\n",
       "      <th>area_ha</th>\n",
       "      <th>density_dwellings</th>\n",
       "      <th>structure_count</th>\n",
       "      <th>age_of_is</th>\n",
       "      <th>upgrade_category</th>\n",
       "      <th>temp_sanitation</th>\n",
       "      <th>toilets_full_flush</th>\n",
       "      <th>toilets_chemical</th>\n",
       "      <th>toilets_portable</th>\n",
       "      <th>toilets_container</th>\n",
       "      <th>toilets_other</th>\n",
       "      <th>toilets_total</th>\n",
       "      <th>ratio_toilets_dwellings</th>\n",
       "      <th>pocket_code</th>\n",
       "      <th>centroidx</th>\n",
       "      <th>centroidy</th>\n",
       "    </tr>\n",
       "  </thead>\n",
       "  <tbody>\n",
       "    <tr>\n",
       "      <th>0</th>\n",
       "      <td>4 in 1</td>\n",
       "      <td>4 in 1</td>\n",
       "      <td>Wallacedene 14 / J Section</td>\n",
       "      <td>-1.866390</td>\n",
       "      <td>Simpiwe Nonkeyizana</td>\n",
       "      <td>0.715522</td>\n",
       "      <td>-0.045882</td>\n",
       "      <td>-0.727035</td>\n",
       "      <td>-0.218666</td>\n",
       "      <td>15 - 20 years</td>\n",
       "      <td>City land. Can be upgraded</td>\n",
       "      <td>-0.716295</td>\n",
       "      <td>0.008162</td>\n",
       "      <td>-0.236812</td>\n",
       "      <td>-0.178859</td>\n",
       "      <td>-0.160277</td>\n",
       "      <td>-0.101285</td>\n",
       "      <td>-0.197668</td>\n",
       "      <td>1:5</td>\n",
       "      <td>NORFOU001</td>\n",
       "      <td>1.218533</td>\n",
       "      <td>1.248309</td>\n",
       "    </tr>\n",
       "    <tr>\n",
       "      <th>1</th>\n",
       "      <td>Acacia Road</td>\n",
       "      <td>Acacia Road</td>\n",
       "      <td>Acacia Park - Parktown</td>\n",
       "      <td>0.069820</td>\n",
       "      <td>Melanie Arendse</td>\n",
       "      <td>2.191955</td>\n",
       "      <td>-0.133398</td>\n",
       "      <td>-0.378085</td>\n",
       "      <td>-0.384054</td>\n",
       "      <td>10 - 15 years</td>\n",
       "      <td>Many constraints.  May need to be relocated</td>\n",
       "      <td>0.197072</td>\n",
       "      <td>-0.322132</td>\n",
       "      <td>-0.195922</td>\n",
       "      <td>-0.178859</td>\n",
       "      <td>-0.160277</td>\n",
       "      <td>-0.101285</td>\n",
       "      <td>-0.283609</td>\n",
       "      <td>1:2</td>\n",
       "      <td>HILACA001</td>\n",
       "      <td>-0.964419</td>\n",
       "      <td>-0.460160</td>\n",
       "    </tr>\n",
       "    <tr>\n",
       "      <th>2</th>\n",
       "      <td>Amy Biehl</td>\n",
       "      <td>Amy Biehl</td>\n",
       "      <td>School Site</td>\n",
       "      <td>-0.962826</td>\n",
       "      <td>Fikiswa Nkunzana</td>\n",
       "      <td>-0.835666</td>\n",
       "      <td>-0.083567</td>\n",
       "      <td>0.651583</td>\n",
       "      <td>0.207615</td>\n",
       "      <td>15 - 20 years</td>\n",
       "      <td>Provincial or National government land.  Some ...</td>\n",
       "      <td>-0.716295</td>\n",
       "      <td>0.702916</td>\n",
       "      <td>-0.236812</td>\n",
       "      <td>-0.178859</td>\n",
       "      <td>-0.160277</td>\n",
       "      <td>-0.101285</td>\n",
       "      <td>-0.003506</td>\n",
       "      <td>1:6</td>\n",
       "      <td>MITAMY001</td>\n",
       "      <td>-0.145945</td>\n",
       "      <td>-0.157161</td>\n",
       "    </tr>\n",
       "    <tr>\n",
       "      <th>3</th>\n",
       "      <td>Appel Boord</td>\n",
       "      <td>Appel Boord</td>\n",
       "      <td>Crossroads 13/14/16</td>\n",
       "      <td>-1.350068</td>\n",
       "      <td>Johanna Martlow</td>\n",
       "      <td>1.500461</td>\n",
       "      <td>-0.132852</td>\n",
       "      <td>-0.131762</td>\n",
       "      <td>-0.377065</td>\n",
       "      <td>5 - 10 years</td>\n",
       "      <td>City land. Can be upgraded</td>\n",
       "      <td>-0.716295</td>\n",
       "      <td>-0.242406</td>\n",
       "      <td>-0.236812</td>\n",
       "      <td>-0.178859</td>\n",
       "      <td>-0.160277</td>\n",
       "      <td>-0.101285</td>\n",
       "      <td>-0.267694</td>\n",
       "      <td>1:1</td>\n",
       "      <td>TYGAPP001</td>\n",
       "      <td>0.054743</td>\n",
       "      <td>0.614241</td>\n",
       "    </tr>\n",
       "    <tr>\n",
       "      <th>4</th>\n",
       "      <td>Area K</td>\n",
       "      <td>Area K</td>\n",
       "      <td>Never Never</td>\n",
       "      <td>0.779763</td>\n",
       "      <td>Patrick (Pat) Pietersen</td>\n",
       "      <td>1.556528</td>\n",
       "      <td>-0.054719</td>\n",
       "      <td>0.363376</td>\n",
       "      <td>0.378826</td>\n",
       "      <td>10 - 15 years</td>\n",
       "      <td>Provincial or National government land.  Some ...</td>\n",
       "      <td>-0.716295</td>\n",
       "      <td>1.021820</td>\n",
       "      <td>-0.236812</td>\n",
       "      <td>-0.178859</td>\n",
       "      <td>-0.160277</td>\n",
       "      <td>-0.101285</td>\n",
       "      <td>0.085618</td>\n",
       "      <td>1:5</td>\n",
       "      <td>MITARE001</td>\n",
       "      <td>-0.045168</td>\n",
       "      <td>-0.211973</td>\n",
       "    </tr>\n",
       "  </tbody>\n",
       "</table>\n",
       "</div>"
      ],
      "text/plain": [
       "    is_cluster  pocket_name                pocket_alias   ward_id  \\\n",
       "0       4 in 1       4 in 1  Wallacedene 14 / J Section -1.866390   \n",
       "1  Acacia Road  Acacia Road      Acacia Park - Parktown  0.069820   \n",
       "2    Amy Biehl    Amy Biehl                 School Site -0.962826   \n",
       "3  Appel Boord  Appel Boord         Crossroads 13/14/16 -1.350068   \n",
       "4       Area K       Area K                 Never Never  0.779763   \n",
       "\n",
       "           ward_councillor  avg_hhsize   area_ha  density_dwellings  \\\n",
       "0      Simpiwe Nonkeyizana    0.715522 -0.045882          -0.727035   \n",
       "1          Melanie Arendse    2.191955 -0.133398          -0.378085   \n",
       "2         Fikiswa Nkunzana   -0.835666 -0.083567           0.651583   \n",
       "3          Johanna Martlow    1.500461 -0.132852          -0.131762   \n",
       "4  Patrick (Pat) Pietersen    1.556528 -0.054719           0.363376   \n",
       "\n",
       "   structure_count      age_of_is  \\\n",
       "0        -0.218666  15 - 20 years   \n",
       "1        -0.384054  10 - 15 years   \n",
       "2         0.207615  15 - 20 years   \n",
       "3        -0.377065   5 - 10 years   \n",
       "4         0.378826  10 - 15 years   \n",
       "\n",
       "                                    upgrade_category  temp_sanitation  \\\n",
       "0                         City land. Can be upgraded        -0.716295   \n",
       "1        Many constraints.  May need to be relocated         0.197072   \n",
       "2  Provincial or National government land.  Some ...        -0.716295   \n",
       "3                         City land. Can be upgraded        -0.716295   \n",
       "4  Provincial or National government land.  Some ...        -0.716295   \n",
       "\n",
       "   toilets_full_flush  toilets_chemical  toilets_portable  toilets_container  \\\n",
       "0            0.008162         -0.236812         -0.178859          -0.160277   \n",
       "1           -0.322132         -0.195922         -0.178859          -0.160277   \n",
       "2            0.702916         -0.236812         -0.178859          -0.160277   \n",
       "3           -0.242406         -0.236812         -0.178859          -0.160277   \n",
       "4            1.021820         -0.236812         -0.178859          -0.160277   \n",
       "\n",
       "   toilets_other  toilets_total ratio_toilets_dwellings pocket_code  \\\n",
       "0      -0.101285      -0.197668                     1:5   NORFOU001   \n",
       "1      -0.101285      -0.283609                     1:2   HILACA001   \n",
       "2      -0.101285      -0.003506                     1:6   MITAMY001   \n",
       "3      -0.101285      -0.267694                     1:1   TYGAPP001   \n",
       "4      -0.101285       0.085618                     1:5   MITARE001   \n",
       "\n",
       "   centroidx  centroidy  \n",
       "0   1.218533   1.248309  \n",
       "1  -0.964419  -0.460160  \n",
       "2  -0.145945  -0.157161  \n",
       "3   0.054743   0.614241  \n",
       "4  -0.045168  -0.211973  "
      ]
     },
     "execution_count": 115,
     "metadata": {},
     "output_type": "execute_result"
    }
   ],
   "source": [
    "pd.set_option(\"display.max_columns\", None)\n",
    "df.head()"
   ]
  },
  {
   "cell_type": "markdown",
   "id": "826c08dd-1c40-4533-9df9-193e0014c4ab",
   "metadata": {},
   "source": [
    "# Bar chart Age of Ward_Councillor"
   ]
  },
  {
   "cell_type": "code",
   "execution_count": 106,
   "id": "26b3769e-0005-487e-a8a3-9f913383202e",
   "metadata": {},
   "outputs": [
    {
     "data": {
      "image/png": "[encoded data removed]",
      "text/plain": [
       "<Figure size 100x300 with 1 Axes>"
      ]
     },
     "metadata": {},
     "output_type": "display_data"
    }
   ],
   "source": [
    "plt.figure(figsize =(1 , 3))\n",
    "sns.barplot(x='ward_councillor', y='avg_hhsize' , data = df, errorbar=None)\n",
    "plt.title('Total Dwellings')\n",
    "plt.xticks(rotation=19)\n",
    "plt.show()"
   ]
  },
  {
   "cell_type": "markdown",
   "id": "f89b6b06-ef88-42b5-8c2c-44bc2bf9826d",
   "metadata": {},
   "source": [
    "# Advinced Charts"
   ]
  },
  {
   "cell_type": "markdown",
   "id": "18d8fff6-e382-493f-adb1-17556f229214",
   "metadata": {},
   "source": [
    "# 1. Scatter plot with Regression line - Density_Dwellings vs Structure_count "
   ]
  },
  {
   "cell_type": "code",
   "execution_count": 114,
   "id": "95921efa-9296-40b4-b8de-c8805bbf2106",
   "metadata": {},
   "outputs": [
    {
     "data": {
      "image/png": "[encoded data removed]",
      "text/plain": [
       "<Figure size 100x300 with 1 Axes>"
      ]
     },
     "metadata": {},
     "output_type": "display_data"
    }
   ],
   "source": [
    "plt.figure(figsize=(1, 3))\n",
    "sns.scatterplot(x ='density_dwellings', y='structure_count', data=df)\n",
    "sns.regplot(x='density_dwellings', y='structure_count', data=df, scatter=False, color='red')\n",
    "plt.title('density_dwellings vs. structure_count')\n",
    "plt.xlabel('density_dwellings')\n",
    "plt.ylabel('structure_count')\n",
    "plt.show()"
   ]
  },
  {
   "cell_type": "markdown",
   "id": "a65c62ee-7e2c-4207-a2ee-0c797bac30c2",
   "metadata": {},
   "source": [
    "# 2. Choropleth Map Centroidx vs Crntroidy"
   ]
  },
  {
   "cell_type": "code",
   "execution_count": null,
   "id": "a8f9cb4f-827a-4920-a819-aadca4c4a4bd",
   "metadata": {},
   "outputs": [],
   "source": [
    "fig = px.choropleth(df,\n",
    "                    locations='centroidx',\n",
    "                    locationmode='centroidx',\n",
    "                    color='centroidy',\n",
    "                    color_continuous_scale='centroidy',\n",
    "                    title='centroidx vs centroidy')\n",
    "fig.show()"
   ]
  },
  {
   "cell_type": "markdown",
   "id": "4b4ef614-6c29-4ce7-8cc9-31ce49494077",
   "metadata": {},
   "source": [
    "# SR4.1Sort on dataset column "
   ]
  },
  {
   "cell_type": "code",
   "execution_count": 121,
   "id": "bcf3f0b4-02a6-4890-8c83-61b22959fea9",
   "metadata": {},
   "outputs": [
    {
     "ename": "SyntaxError",
     "evalue": "invalid syntax (2713350993.py, line 7)",
     "output_type": "error",
     "traceback": [
      "\u001b[1;36m  Cell \u001b[1;32mIn[121], line 7\u001b[1;36m\u001b[0m\n\u001b[1;33m    df selection_sort(arr):\u001b[0m\n\u001b[1;37m       ^\u001b[0m\n\u001b[1;31mSyntaxError\u001b[0m\u001b[1;31m:\u001b[0m invalid syntax\n"
     ]
    }
   ],
   "source": [
    "import pandas as pd\n",
    "#LOAD THE DATASET\n",
    "file_path = '.csv'\n",
    "df =pd.read.csv(file_path)\n",
    "\n",
    "#implementing selection Sort\n",
    "df selection_sort(arr):\n",
    "    for i in range(len(arr)):\n",
    "        main_idx = i\n",
    "        for j in range(i+1, len(arr)):\n",
    "            if arr[main_idx]> arr[j]:\n",
    "                min_idx = j\n",
    "                arr[i], arr[min_idx] =arr[main_idx], arr[i]\n",
    "            return arr\n",
    "\n",
    "#extracting numbersfrom arr list\n",
    "    = df[''],values\n",
    "\n",
    "#sort the column using selection sort\n",
    "sorted_  =selection_sort()\n",
    "\n",
    "#assign the sort vaslues back to the dataframe\n",
    "df['']= sorted_ \n",
    "\n",
    "print('')\n",
    "print(df.head())\n"
   ]
  },
  {
   "cell_type": "markdown",
   "id": "246197fb-0138-4dd2-a926-2891744843e8",
   "metadata": {},
   "source": [
    "## Justification for Each Iteration\r\n",
    "Initial Array: Begin with the given unsorted array [6, 9, 8, 2, 45, 63, 81].\n",
    "### \n",
    "\r\n",
    "First Iterati\n",
    "n: Start heapifying from the last non-leaf node (index 2), but since the values at index 5 and 6 are larger and already in place, no changes are needed### .\r\n",
    "\r\n",
    "Second Itera\n",
    "ion: Move to the next node (index 1) and compare it with its children. Swap with the larger child (4### 5).\r\n",
    "\r\n",
    "Third Ite\n",
    "ation: Move to the root node (index 0) and swap with the larger child (45), then heapify the affected subtree by comparing and swapping with child nodes if necessary.\r\n",
    "\r\n",
    "This process ensures the tree structure maintains the max-heap property, ultimately resulting in the sorted array when elements are extracted."
   ]
  },
  {
   "cell_type": "markdown",
   "id": "bee4a464-2a4a-484f-8b0a-99f4e5f562d1",
   "metadata": {},
   "source": [
    "### Explanation of Linear Search vs. Binary Search Performance\r",
    "## \n",
    "Linear Search\r\n",
    "Description: Linear search is a straightforward algorithm that scans through each element in a list one by one until the desired element is found or the end of the list is reached.\r\n",
    "Time Complexity: O(n), where n is the number of elements in the list. In the worst case, the search might need to examine every element.\r\n",
    "Best Use Case: Works well on small or unsorted lists. Since it does not require the list to be sorted, it is versatile but can be inefficient for large datase## ts.\r\n",
    "Binary Search\r\n",
    "Description: Binary search is a more efficient algorithm that works on sorted lists. It repeatedly divides the search interval in half, eliminating half of the remaining elements from consideration in each step.\r\n",
    "Time Complexity: O(log n), where n is the number of elements in the list. This logarithmic time complexity makes binary search much faster for large datasets compared to linear search.\r\n",
    "Best Use Case: Ideal for large datasets where the list is sorted. It is highly efficient and can quickly locate elements even in vast colle## ctions.\r\n",
    "Performance Comparison\r\n",
    "Speed: Binary search performs significantly faster than linear search, especially as the size of the dataset grows. For example, searching in a list of 1,000,000 elements might require at most 20 comparisons with binary search, but up to 1,000,000 comparisons with linear search.\r\n",
    "Requirements: Binary search requires the dataset to be sorted, which can add preprocessing time. Linear search does not have this requirement, making it more flexible but slower in practice."
   ]
  }
 ],
 "metadata": {
  "kernelspec": {
   "display_name": "Python 3 (ipykernel)",
   "language": "python",
   "name": "python3"
  },
  "language_info": {
   "codemirror_mode": {
    "name": "ipython",
    "version": 3
   },
   "file_extension": ".py",
   "mimetype": "text/x-python",
   "name": "python",
   "nbconvert_exporter": "python",
   "pygments_lexer": "ipython3",
   "version": "3.11.7"
  }
 },
 "nbformat": 4,
 "nbformat_minor": 5
}
